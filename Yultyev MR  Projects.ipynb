{
 "cells": [
  {
   "cell_type": "code",
   "execution_count": 1,
   "id": "c857b3ec",
   "metadata": {
    "ExecuteTime": {
     "end_time": "2023-10-27T09:56:07.086400Z",
     "start_time": "2023-10-27T09:56:06.776806Z"
    },
    "scrolled": true
   },
   "outputs": [],
   "source": [
    "# Импорт библиотек\n",
    "import os\n",
    "import cv2\n",
    "import math\n",
    "import numpy as np\n",
    "from imutils import perspective\n",
    "\n",
    "# детектор обнаружения маркера Aruco\n",
    "parameters = cv2.aruco.DetectorParameters_create()\n",
    "aruco_dict = cv2.aruco.Dictionary_get(cv2.aruco.DICT_ARUCO_ORIGINAL)\n",
    "\n",
    "# загрузка изображения и изменение размера \n",
    "img = cv2.imread(\"222v1.jpg\")\n",
    "scale = 1.6\n",
    "wP = int(1006 // scale)\n",
    "hP = int(1603 // scale)\n",
    "pd = 0\n",
    "img = img[pd:img.shape[0] - pd, pd:img.shape[1] - pd]\n",
    "\n",
    "# Извлечение координат углов и индентификатора маркера Aruco\n",
    "corners, ids, _ = cv2.aruco.detectMarkers(img, aruco_dict, parameters=parameters)\n",
    "\n",
    "# Координаты внешних углов каждого маркера Aruco \n",
    "bg = np.array([[corners[2][0][0][0], corners[2][0][0][1]],\n",
    "               [corners[3][0][0][0], corners[3][0][0][1]],\n",
    "               [corners[1][0][1][0], corners[1][0][1][1]],\n",
    "               [corners[0][0][3][0], corners[0][0][3][1]]])  \n",
    "bg = perspective.order_points(bg) # сортируем координаты по часовой стрелке \n",
    "bg = np.int0(bg)"
   ]
  },
  {
   "cell_type": "code",
   "execution_count": 2,
   "id": "9ec57e5b",
   "metadata": {
    "ExecuteTime": {
     "end_time": "2023-10-27T09:56:11.342787Z",
     "start_time": "2023-10-27T09:56:10.296792Z"
    }
   },
   "outputs": [],
   "source": [
    "#isWritten = cv2.imwrite('image1.png', img)\n",
    "cv2.imshow(\"Image\", img)\n",
    "cv2.waitKey(1000)\n",
    "cv2.destroyAllWindows()"
   ]
  },
  {
   "cell_type": "code",
   "execution_count": 4,
   "id": "adefe9fe",
   "metadata": {
    "ExecuteTime": {
     "end_time": "2023-10-27T09:56:41.374094Z",
     "start_time": "2023-10-27T09:56:36.280494Z"
    }
   },
   "outputs": [],
   "source": [
    "# Преобразование индентификаторов и координат углов\n",
    "ids = ids.flatten()\n",
    "\n",
    "# Внешний многоугольник по внешним точкам каждого маркера\n",
    "cv2.polylines(img, [bg], True, (0, 255, 0), 1)\n",
    "\n",
    "# Индитификатор маркера \n",
    "for i,_ in enumerate(corners):\n",
    "    # Координаты центра каждого маркера\n",
    "    cY = int((corners[i][0][0][1] + corners[i][0][2][1]) / 2)\n",
    "    cX = int((corners[i][0][0][0] + corners[i][0][2][0]) / 2) \n",
    "    cv2.circle(img, (cX, cY), 2, (0, 0, 255), -1)\n",
    "    # Индентификатор маркера\n",
    "    cv2.putText(img, str(ids[i]), (cX, cY), cv2.FONT_HERSHEY_SIMPLEX, 0.5, (0, 255, 0), 2)\n",
    "\n",
    "#isWritten = cv2.imwrite('image01.png', img)\n",
    "cv2.imshow(\"Image\", img)\n",
    "cv2.waitKey(5000)\n",
    "cv2.destroyAllWindows()"
   ]
  },
  {
   "cell_type": "code",
   "execution_count": 5,
   "id": "08397cb7",
   "metadata": {
    "ExecuteTime": {
     "end_time": "2023-10-27T09:56:44.279272Z",
     "start_time": "2023-10-27T09:56:44.272423Z"
    }
   },
   "outputs": [],
   "source": [
    "#перспективное преобразование, P и H фактические стороны внешнего прямоугольника в мм\n",
    "def warpImg(img, bg, P=1603, H=1006):\n",
    "    box = perspective.order_points(bg) # сортируем координаты по часовой стрелке          \n",
    "    pts1 = np.float32(box) #точки для исходного изображения\n",
    "    pts2 = np.float32([[0, 0], [P, 0], [P, H], [0, H]]) #точки для преобразования,P-ширина, H - высота\n",
    "    matrix = cv2.getPerspectiveTransform(pts1, pts2) #  перспективное преобразование\n",
    "    imgWarp = cv2.warpPerspective(img, matrix, (P, H)) # применить перспективное преобразование на изображение\n",
    "    #imgWarp = cv2.resize(imgWarp, None, fx = 0.7, fy = 0.7, interpolation=cv2.INTER_NEAREST)\n",
    "    return imgWarp"
   ]
  },
  {
   "cell_type": "code",
   "execution_count": 6,
   "id": "f36c609c",
   "metadata": {
    "ExecuteTime": {
     "end_time": "2023-10-27T09:59:02.221809Z",
     "start_time": "2023-10-27T09:58:57.126963Z"
    }
   },
   "outputs": [],
   "source": [
    "#Вывод картинки после преобразования\n",
    "imgWarp = warpImg(img, bg, P= hP, H= wP)\n",
    "#isWritten = cv2.imwrite('imgWarp024.png', imgWarp)\n",
    "cv2.imshow(\"Image\", imgWarp)\n",
    "cv2.waitKey(5000)\n",
    "cv2.destroyAllWindows()"
   ]
  },
  {
   "cell_type": "code",
   "execution_count": 7,
   "id": "da2772ea",
   "metadata": {
    "ExecuteTime": {
     "end_time": "2023-10-27T09:59:05.615632Z",
     "start_time": "2023-10-27T09:59:05.597847Z"
    }
   },
   "outputs": [
    {
     "data": {
      "text/plain": [
       "0.6243771559984669"
      ]
     },
     "execution_count": 7,
     "metadata": {},
     "output_type": "execute_result"
    }
   ],
   "source": [
    "# Масштабный коэффициент \n",
    "# Периметр внешнего многоугольника по внешним точкам каждого маркера\n",
    "aruco_perimeter = cv2.arcLength(bg, True)\n",
    "# Периметр рамки изображения imgWarp\n",
    "pp = imgWarp.shape[1]*2 + imgWarp.shape[0]*2\n",
    "# Коэффициент корректировки преобразования\n",
    "rect2 = cv2.minAreaRect(bg)\n",
    "(x2, y2), (w2, h2), angle = rect2\n",
    "fg = pp/aruco_perimeter\n",
    "\n",
    "# Фактическое значение периметра в мм внешнего многоугольника по внешним точкам каждого маркера\n",
    "p = 5218\n",
    "\n",
    "# Соотношение пикселей к мм\n",
    "pk = aruco_perimeter * fg / p\n",
    "pk"
   ]
  },
  {
   "cell_type": "code",
   "execution_count": 8,
   "id": "a46c199a",
   "metadata": {
    "ExecuteTime": {
     "end_time": "2023-10-27T09:59:06.690199Z",
     "start_time": "2023-10-27T09:59:06.677861Z"
    }
   },
   "outputs": [],
   "source": [
    "#определение контуров\n",
    "def getContours(img, thresh1=100,thresh2=50,thresh3=4000):\n",
    "       \n",
    "    imgGray = cv2.cvtColor(img, cv2.COLOR_BGR2GRAY) #преобразов в градации серого\n",
    "    imgBlur = cv2.GaussianBlur(imgGray, (3, 3), 5) #размытие по Гауссу с ядром 3х3\n",
    "    imgCanny = cv2.Canny(imgBlur, thresh1, thresh2 ) #обнаруживаем края\n",
    "\n",
    "    #операция закрытие, чтобы получить четкие края\n",
    "    imgDial = cv2.dilate(imgCanny, None, iterations=1) #расширяет края\n",
    "    imgThre = cv2.erode(imgDial, None, iterations=1) #размывает края\n",
    "   \n",
    "   #RETR_EXTERNAL - внешние контуры, CHAIN_APPROX_SIMPLE - соединяет горизонтальные, вертикальные и диагональные контуры.\n",
    "    cnts = cv2.findContours(imgThre, cv2.RETR_EXTERNAL, cv2.CHAIN_APPROX_SIMPLE) # поиск внешних контуров\n",
    "    cnts = cnts[0] if len(cnts) == 2 else cnts[1]\n",
    "    \n",
    "    Countours = []\n",
    "    for i in cnts:\n",
    "        area = cv2.contourArea(i) #площадь объекта\n",
    "        if area > thresh3:\n",
    "            pr = cv2.arcLength(i, True) #периметр, True - замкнутый контур\n",
    "            # приближение формы контура к другой форме с меньшим кол-вом вершин\n",
    "            approx = cv2.approxPolyDP(i, 0.02*pr, True) #апроксимация\n",
    "            bbox = cv2.boundingRect(approx) # Прямой ограничивающий прямоугольник\n",
    "            Countours.append([area, approx, i]) \n",
    "                    \n",
    "    #сортировка контуров в порядке убывания по размерам\n",
    "    finalCountours = sorted(Countours, key=lambda x: x[0], reverse = True)\n",
    "    \n",
    "    return finalCountours"
   ]
  },
  {
   "cell_type": "code",
   "execution_count": 9,
   "id": "f5122d95",
   "metadata": {
    "ExecuteTime": {
     "end_time": "2023-10-27T09:59:11.765584Z",
     "start_time": "2023-10-27T09:59:08.246978Z"
    },
    "code_folding": []
   },
   "outputs": [],
   "source": [
    "# Выбор параметров для обнаружения точек контуров \n",
    "\n",
    "def nothing(x):\n",
    "    pass\n",
    "\n",
    "cv2.namedWindow(\"track\")\n",
    "cv2.createTrackbar(\"T1\", \"track\", 1, 255, nothing)\n",
    "cv2.createTrackbar(\"T2\", \"track\", 1, 255, nothing)\n",
    "cv2.createTrackbar(\"T3\", \"track\", 1, 10000, nothing)\n",
    "\n",
    "while True:\n",
    "    \n",
    "    k = cv2.getTrackbarPos(\"T1\", \"track\")\n",
    "    m = cv2.getTrackbarPos(\"T2\", \"track\") \n",
    "    s = cv2.getTrackbarPos(\"T3\", \"track\")\n",
    "    \n",
    "    image1 = imgWarp.copy()\n",
    "    cnt = getContours(image1, thresh1 = k, thresh2 = m, thresh3 = s)\n",
    "    for i, elem in enumerate(cnt):\n",
    "        cv2.drawContours(image1, cnt[i][1], -1, (0, 255, 0), 4)\n",
    "        cv2.imshow(\"Image\", image1)\n",
    "           \n",
    "    k = cv2.waitKey(1)& 0xFF\n",
    "    if k == 27:\n",
    "        break\n",
    "        \n",
    "cv2.destroyAllWindows()"
   ]
  },
  {
   "cell_type": "code",
   "execution_count": 11,
   "id": "cc495327",
   "metadata": {
    "ExecuteTime": {
     "end_time": "2023-10-27T09:59:33.435354Z",
     "start_time": "2023-10-27T09:59:33.429519Z"
    }
   },
   "outputs": [],
   "source": [
    "# Функция для расчета фокусного расстояния\n",
    "m_distance = 2067 # расстояние в мм от камеры до плоскости с маркерами\n",
    "r_width = 1006 # ширина в мм внешнего прямоугольника \n",
    "# ширина в пикселях внешнего прямоугольника \n",
    "width_in_image = imgWarp.shape[0]\n",
    "# функция определения фокусного расстояния \n",
    "def FL(m_distance, r_width, width_in_image): \n",
    "    foc_length = (width_in_image * m_distance)/ r_width \n",
    "    return foc_length \n",
    "\n",
    "FL = FL(m_distance, r_width, width_in_image)"
   ]
  },
  {
   "cell_type": "code",
   "execution_count": 14,
   "id": "120a75d4",
   "metadata": {
    "ExecuteTime": {
     "end_time": "2023-10-27T10:00:00.758525Z",
     "start_time": "2023-10-27T10:00:00.749265Z"
    }
   },
   "outputs": [],
   "source": [
    "# Точки данных для полиномиальной регрессии\n",
    "#периметр объекта в пикселях \n",
    "newlist = [650,648,556,480,432,372,348,351,320,294,305,304,301,\n",
    " 278,277,269,267,322]\n",
    "#расстояние от камеры до маркера DICT_4X4_100 Aruco\n",
    "y3 = [367, 470, 561, 665, 765, 875, 966, 1065, 1160, \n",
    "      1264, 1370, 1472, 1569, 1673, 1777, 1877, 1977, 2067]\n",
    "coff1 = np.polyfit(newlist, y3, 2)  # зависимость y = Ax^2 + Bx + C\n"
   ]
  },
  {
   "cell_type": "code",
   "execution_count": 15,
   "id": "ca9b7c97",
   "metadata": {
    "ExecuteTime": {
     "end_time": "2023-10-27T10:00:14.980325Z",
     "start_time": "2023-10-27T10:00:14.934577Z"
    }
   },
   "outputs": [],
   "source": [
    "# определение размеров \n",
    "def magic(imgWarp, pk, m_distance, coff1):\n",
    "    \n",
    "    # детектор обнаружения маркера DICT_4X4_100 Aruco\n",
    "    parameters = cv2.aruco.DetectorParameters_create()\n",
    "    aruco_dict = cv2.aruco.Dictionary_get(cv2.aruco.DICT_4X4_100)\n",
    "    # Извлечение координат углов и индентификатора маркера Aruco\n",
    "    corners, ids, _ = cv2.aruco.detectMarkers(imgWarp, aruco_dict, parameters=parameters)\n",
    "    \n",
    "    cnts = getContours(imgWarp) #получение контуров на изображении \n",
    "    \n",
    "    if ids:\n",
    "        # Координаты углов маркера Aruco \n",
    "        sg = np.array([[corners[0][0][0][0], corners[0][0][0][1]],\n",
    "                       [corners[0][0][1][0], corners[0][0][1][1]],\n",
    "                       [corners[0][0][2][0], corners[0][0][2][1]],\n",
    "                       [corners[0][0][3][0], corners[0][0][3][1]]])  \n",
    "        sg = perspective.order_points(sg) # сортируем координаты по часовой стрелке \n",
    "        sg = np.int0(sg)\n",
    "\n",
    "        # Периметр внешнего многоугольника по внешним точкам каждого маркера\n",
    "        ar_per1 = int(cv2.arcLength(sg, True))\n",
    "    \n",
    "        rect2 = cv2.minAreaRect(sg)\n",
    "        (x2, y2), (w2, h2), angle = rect2\n",
    "\n",
    "        pr = 100*4 # периметр в мм \n",
    "        # Соотношение пикселей к мм\n",
    "        k = ar_per1 / pr\n",
    "        \n",
    "        # расстояние от камеры до объекта в мм\n",
    "        A, B, C = coff1\n",
    "        distanceMM = A * ar_per1**2 + B * ar_per1 + C\n",
    "        # высота объекта\n",
    "        height = m_distance - distanceMM\n",
    "        # Определение пересечения контрура маркера DICT_4X4_100 Aruco с контуром объекта\n",
    "        for i, elem in enumerate(cnts):\n",
    "            for j, el in enumerate(sg):\n",
    "                pt = tuple([int(round(sg[j][0])), int(round(sg[j][1]))])\n",
    "                #проверка на пересечение контуров маркера и объектов\n",
    "                dist = cv2.pointPolygonTest(cnts[i][2], pt, False)\n",
    "                if dist > 0:\n",
    "                    # рамка ограничивающая контуры объектов \n",
    "                    rect = cv2.minAreaRect(cnts[i][1])\n",
    "                    (x, y), (w, h), angle = rect   \n",
    "                    \n",
    "                    # Ширина и длина объектов, мм\n",
    "                    ob_width = w // k\n",
    "                    ob_length = h // k\n",
    "                    # Прямоугольник\n",
    "                    box = cv2.boxPoints(rect)\n",
    "                    box = np.int0(box)\n",
    "\n",
    "                    cv2.circle(imgWarp, sg[0], 2, (0, 255, 0), -1)\n",
    "                    cv2.polylines(imgWarp, [box], True, (0, 255, 0), 1)\n",
    "                    if ob_width <= ob_length:\n",
    "                        wk = ob_width\n",
    "                        wd = ob_length\n",
    "                    else:\n",
    "                        wk = ob_length\n",
    "                        wd = ob_width\n",
    "                    cv2.putText(imgWarp, \"width {} mm\".format(round(wk, 1)), (int(x +80), \n",
    "                                int(y -10)), cv2.FONT_HERSHEY_PLAIN, 1, (0, 255, 0), 2)\n",
    "                    cv2.putText(imgWarp, \"length {} mm\".format(round(wd, 1)), (int(x +80), \n",
    "                                int(y+15)), cv2.FONT_HERSHEY_PLAIN, 1, (0, 255, 0), 2)\n",
    "                    cv2.putText(imgWarp, \"height {} mm\".format(round(height, 1)), (int(x +80), \n",
    "                                int(y + 40)), cv2.FONT_HERSHEY_PLAIN, 1, (0, 255, 0), 2)\n",
    "\n",
    "                else:\n",
    "                    # Ширина и длина объекта, мм\n",
    "                    ob_w = w2 // k\n",
    "                    ob_l = h2 // k\n",
    "                    cv2.circle(imgWarp, sg[0], 2, (255, 200, 0), -1)\n",
    "                    cv2.polylines(imgWarp, [sg], True, (255, 200, 0), 1)\n",
    "                    if ob_w <= ob_l:\n",
    "                        wk = ob_w\n",
    "                        wd = ob_l\n",
    "                    else:\n",
    "                        wk = ob_l\n",
    "                        wd = ob_w\n",
    "                    cv2.putText(imgWarp, \"width {} mm\".format(round(wk, 1)), (int(x2 -100), \n",
    "                                int(y2 - 10)), cv2.FONT_HERSHEY_PLAIN, 1, (255, 200, 0), 2)\n",
    "                    cv2.putText(imgWarp, \"length {} mm\".format(round(wd, 1)), (int(x2 - 100), \n",
    "                                int(y2 + 15)), cv2.FONT_HERSHEY_PLAIN, 1, (255, 200, 0), 2)\n",
    "                    cv2.putText(imgWarp, \"height {} mm\".format(round(height, 1)), (int(x2 - 100), \n",
    "                                int(y2 + 40)), cv2.FONT_HERSHEY_PLAIN, 1, (255, 200, 0), 2)\n",
    "    else:\n",
    "        for i, elem in enumerate(cnts):\n",
    "            # рамка ограничивающая контур \n",
    "            rect = cv2.minAreaRect(cnts[i][1])\n",
    "            (x, y), (w, h), angle = rect \n",
    "\n",
    "            # Ширина и длина объектов, мм\n",
    "            ob_width = w // pk\n",
    "            ob_length = h // pk\n",
    "           \n",
    "            # Прямоугольник\n",
    "            box = cv2.boxPoints(rect)\n",
    "            box = np.int0(box)\n",
    "\n",
    "            cv2.circle(imgWarp, (int(x), int(y)), 3, (255, 255, 0), -1)\n",
    "            cv2.polylines(imgWarp, [box], True, (255, 255, 0), 1)\n",
    "\n",
    "            if ob_width <= ob_length:\n",
    "                wk = ob_width\n",
    "                wd = ob_length\n",
    "            else:\n",
    "                wk = ob_length\n",
    "                wd = ob_width\n",
    "\n",
    "            cv2.putText(imgWarp, \"width {} mm\".format(round(wk, 1)), (int(x -100), \n",
    "                        int(y - 10)), cv2.FONT_HERSHEY_PLAIN, 1, (255, 255, 0), 2)\n",
    "            cv2.putText(imgWarp, \"length {} mm\".format(round(wd, 1)), (int(x - 100), \n",
    "                        int(y + 15)), cv2.FONT_HERSHEY_PLAIN, 1, (255, 255, 0), 2)\n",
    "           \n",
    "    return imgWarp"
   ]
  },
  {
   "cell_type": "code",
   "execution_count": 16,
   "id": "20402467",
   "metadata": {
    "ExecuteTime": {
     "end_time": "2023-10-27T10:00:19.818836Z",
     "start_time": "2023-10-27T10:00:16.837061Z"
    }
   },
   "outputs": [],
   "source": [
    "img2 = imgWarp.copy()\n",
    "img3 = magic(img2, pk, m_distance, coff1)\n",
    "#isWritten = cv2.imwrite('imgWarp22.png', imgWarp)\n",
    "cv2.imshow(\"Image\", img3)\n",
    "cv2.waitKey(6000)\n",
    "cv2.destroyAllWindows()"
   ]
  },
  {
   "cell_type": "code",
   "execution_count": 17,
   "id": "35721c34",
   "metadata": {
    "ExecuteTime": {
     "end_time": "2023-10-27T10:02:57.118369Z",
     "start_time": "2023-10-27T10:00:28.573962Z"
    }
   },
   "outputs": [],
   "source": [
    "# Load Cap\n",
    "webcam = True\n",
    "path = '222v1.jpg'\n",
    "cap = cv2.VideoCapture(\"222v.mp4\")\n",
    "#cap.set(10, 150)\n",
    "# Если не удалось открыть файл, выводим сообщение об ошибке\n",
    "if cap.isOpened() == False:\n",
    "    print('Не возможно открыть файл')\n",
    "    \n",
    "while True:\n",
    "    \n",
    "    if webcam:\n",
    "        success, img = cap.read()\n",
    "        # если кадры закончились, то выход\n",
    "        if img is None:\n",
    "            break\n",
    "    else:\n",
    "        img = cv2.imread(path) #считываем данные графического файла в переменную\n",
    "        pd = 0\n",
    "        img = img[pd:img.shape[0] - pd, pd:img.shape[1] - pd]\n",
    "    \n",
    "    imgW = warpImg(img, bg, P= hP, H= wP)    \n",
    "    img = magic(imgW, pk, m_distance, coff1)\n",
    "    \n",
    "    cv2.imshow('Original', img)\n",
    "        \n",
    "    if cv2.waitKey(10)& 0xFF == ord(\"q\"):\n",
    "        break\n",
    "        \n",
    "cap.release()\n",
    "\n",
    "cv2.destroyAllWindows()"
   ]
  },
  {
   "cell_type": "code",
   "execution_count": null,
   "id": "6222b9e3",
   "metadata": {},
   "outputs": [],
   "source": []
  },
  {
   "cell_type": "code",
   "execution_count": null,
   "id": "ee444150",
   "metadata": {},
   "outputs": [],
   "source": []
  }
 ],
 "metadata": {
  "kernelspec": {
   "display_name": "Python 3 (ipykernel)",
   "language": "python",
   "name": "python3"
  },
  "language_info": {
   "codemirror_mode": {
    "name": "ipython",
    "version": 3
   },
   "file_extension": ".py",
   "mimetype": "text/x-python",
   "name": "python",
   "nbconvert_exporter": "python",
   "pygments_lexer": "ipython3",
   "version": "3.11.2"
  },
  "nbTranslate": {
   "displayLangs": [
    "*"
   ],
   "hotkey": "alt-t",
   "langInMainMenu": true,
   "sourceLang": "en",
   "targetLang": "fr",
   "useGoogleTranslate": true
  },
  "varInspector": {
   "cols": {
    "lenName": 16,
    "lenType": 16,
    "lenVar": 40
   },
   "kernels_config": {
    "python": {
     "delete_cmd_postfix": "",
     "delete_cmd_prefix": "del ",
     "library": "var_list.py",
     "varRefreshCmd": "print(var_dic_list())"
    },
    "r": {
     "delete_cmd_postfix": ") ",
     "delete_cmd_prefix": "rm(",
     "library": "var_list.r",
     "varRefreshCmd": "cat(var_dic_list()) "
    }
   },
   "types_to_exclude": [
    "module",
    "function",
    "builtin_function_or_method",
    "instance",
    "_Feature"
   ],
   "window_display": false
  }
 },
 "nbformat": 4,
 "nbformat_minor": 5
}
