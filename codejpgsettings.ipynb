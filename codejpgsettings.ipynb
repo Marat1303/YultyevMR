{
 "cells": [
  {
   "cell_type": "code",
   "execution_count": 1,
   "id": "6e627ba1",
   "metadata": {
    "ExecuteTime": {
     "end_time": "2023-10-27T10:03:27.508911Z",
     "start_time": "2023-10-27T10:03:26.478002Z"
    }
   },
   "outputs": [
    {
     "data": {
      "text/plain": [
       "[650,\n",
       " 648,\n",
       " 556,\n",
       " 480,\n",
       " 432,\n",
       " 372,\n",
       " 348,\n",
       " 351,\n",
       " 320,\n",
       " 294,\n",
       " 305,\n",
       " 304,\n",
       " 301,\n",
       " 278,\n",
       " 277,\n",
       " 269,\n",
       " 267,\n",
       " 322]"
      ]
     },
     "execution_count": 1,
     "metadata": {},
     "output_type": "execute_result"
    }
   ],
   "source": [
    "#Определение зависимости изменения размеров на изображениии с изменением высоты \n",
    "#импорт библиотек \n",
    "import os\n",
    "import cv2\n",
    "import math\n",
    "import numpy as np\n",
    "from imutils import perspective\n",
    "# список наменований изображений, где название - расстояние от камеры до объекта\n",
    "jpglist = ['367.jpg', '470.jpg', '561.jpg', '665.jpg', '765.jpg', '875.jpg',\n",
    "          '966.jpg', '1065.jpg', '1160.jpg', '1264.jpg', '1370.jpg', '1472.jpg',\n",
    "          '1569.jpg', '1673.jpg', '1777.jpg', '1877.jpg', '1977.jpg', '2067.jpg']\n",
    "# Периметры \n",
    "ar_per = []\n",
    "for i in jpglist: \n",
    "    # детектор обнаружения маркера Aruco\n",
    "    parameters = cv2.aruco.DetectorParameters_create()\n",
    "    aruco_dict = cv2.aruco.Dictionary_get(cv2.aruco.DICT_ARUCO_ORIGINAL)\n",
    "\n",
    "    # загрузка изображения и изменение размера \n",
    "    img = cv2.imread(i)\n",
    "    scale = 1.6\n",
    "    wP = int(1006 // scale)\n",
    "    hP = int(1603 // scale)\n",
    "    pd = 0\n",
    "    img = img[pd:img.shape[0] - pd, pd:img.shape[1] - pd]\n",
    "\n",
    "    # Извлечение координат углов и индентификатора маркера Aruco\n",
    "    corners, ids, _ = cv2.aruco.detectMarkers(img, aruco_dict, parameters=parameters)\n",
    "\n",
    "    # Координаты внешних углов каждого маркера Aruco \n",
    "    bg = np.array([[corners[2][0][0][0], corners[2][0][0][1]],\n",
    "                   [corners[3][0][0][0], corners[3][0][0][1]],\n",
    "                   [corners[1][0][1][0], corners[1][0][1][1]],\n",
    "                   [corners[0][0][3][0], corners[0][0][3][1]]])  \n",
    "    bg = perspective.order_points(bg) # сортируем координаты по часовой стрелке \n",
    "    bg = np.int0(bg)\n",
    "    \n",
    "    \n",
    "    #перспективное преобразование, P и H фактические стороны внешнего прямоугольника в мм\n",
    "    def warpImg(img, bg, P=1603, H=1006):\n",
    "        box = perspective.order_points(bg) # сортируем координаты по часовой стрелке          \n",
    "        pts1 = np.float32(box) #точки для исходного изображения\n",
    "        pts2 = np.float32([[0, 0], [P, 0], [P, H], [0, H]]) #точки для преобразования,P-ширина, H - высота\n",
    "        matrix = cv2.getPerspectiveTransform(pts1, pts2) #  перспективное преобразование\n",
    "        imgWarp = cv2.warpPerspective(img, matrix, (P, H)) # применить перспективное преобразование на изображение\n",
    "        #imgWarp = cv2.resize(imgWarp, (0, 0), fx = 1.357, fy = 1.357)\n",
    "        return imgWarp\n",
    "    \n",
    "    imgWarp = warpImg(img, bg, P= hP, H= wP)\n",
    "    \n",
    "    # детектор обнаружения маркера DICT_4X4_100 Aruco\n",
    "    parameters = cv2.aruco.DetectorParameters_create()\n",
    "    aruco_dict = cv2.aruco.Dictionary_get(cv2.aruco.DICT_4X4_100)\n",
    "    # Извлечение координат углов и индентификатора маркера Aruco\n",
    "    corners, idss, _ = cv2.aruco.detectMarkers(imgWarp, aruco_dict, parameters=parameters)\n",
    "\n",
    "    # Координаты углов маркера Aruco \n",
    "    sg = np.array([[corners[0][0][0][0], corners[0][0][0][1]],\n",
    "                   [corners[0][0][1][0], corners[0][0][1][0]],\n",
    "                   [corners[0][0][2][0], corners[0][0][2][1]],\n",
    "                   [corners[0][0][3][0], corners[0][0][3][1]]])  \n",
    "    sg = perspective.order_points(sg) # сортируем координаты по часовой стрелке \n",
    "    sg = np.int0(sg)\n",
    "            \n",
    "    # Периметр внешнего многоугольника по внешним точкам каждого маркера\n",
    "    ar_per1 = int(cv2.arcLength(sg, True))\n",
    "    ar_per.append(ar_per1)\n",
    "\n",
    "# Коэффициент корректировки преобразования\n",
    "# Периметр внешнего многоугольника по внешним точкам каждого маркера\n",
    "aruco_perimeter = cv2.arcLength(bg, True)\n",
    "# Периметр рамки изображения imgWarp\n",
    "pp = imgWarp.shape[1]*2 + imgWarp.shape[0]*2\n",
    "rect2 = cv2.minAreaRect(bg)\n",
    "(x2, y2), (w2, h2), angle = rect2\n",
    "\n",
    "kf = pp/aruco_perimeter\n",
    "r = 1.366 #поправочный коэффициент\n",
    "#список периметров\n",
    "sp = (list(np.array(ar_per)/kf/r))\n",
    "newlist = [round(x) for x in sp]\n",
    "newlist"
   ]
  },
  {
   "cell_type": "code",
   "execution_count": 3,
   "id": "672cbbc9",
   "metadata": {
    "ExecuteTime": {
     "end_time": "2023-10-27T10:03:45.497326Z",
     "start_time": "2023-10-27T10:03:44.284391Z"
    }
   },
   "outputs": [
    {
     "data": {
      "image/png": "[encoded data removed]",
      "text/plain": [
       "<Figure size 640x480 with 1 Axes>"
      ]
     },
     "metadata": {},
     "output_type": "display_data"
    }
   ],
   "source": [
    "# Зависимость между высотой (в мм) установки маркера и его периметром на изображении (в пикселях)\n",
    "\n",
    "import matplotlib.pyplot as plt\n",
    " \n",
    "# Расстояние от камеры до объекта\n",
    "h = [367, 470, 561, 665, 765, 875, 966, 1065, 1160, \n",
    "      1264, 1370, 1472, 1569, 1673, 1777, 1877, 1977, 2067]\n",
    "\n",
    "# adding the subplots\n",
    "axes1 = plt.subplot2grid (\n",
    "(3, 1), (0, 0), rowspan = 2, colspan = 1)\n",
    " \n",
    "# plotting the data\n",
    "axes1.plot(h, sp)\n",
    "\n",
    "\n",
    "# Adding label on the y-axis\n",
    "plt.ylabel('Y-Axis')\n",
    " \n",
    "# Adding label on the x-axis\n",
    "plt.xlabel('X-Axis')\n",
    " \n",
    "plt.show()"
   ]
  },
  {
   "cell_type": "code",
   "execution_count": 4,
   "id": "3c08df9e",
   "metadata": {
    "ExecuteTime": {
     "end_time": "2023-10-27T10:03:52.283084Z",
     "start_time": "2023-10-27T10:03:50.242741Z"
    }
   },
   "outputs": [],
   "source": [
    "cv2.imshow(\"Image\", imgWarp)\n",
    "cv2.waitKey(2000)\n",
    "cv2.destroyAllWindows()"
   ]
  },
  {
   "cell_type": "code",
   "execution_count": null,
   "id": "c48741dc",
   "metadata": {},
   "outputs": [],
   "source": []
  }
 ],
 "metadata": {
  "kernelspec": {
   "display_name": "Python 3 (ipykernel)",
   "language": "python",
   "name": "python3"
  },
  "language_info": {
   "codemirror_mode": {
    "name": "ipython",
    "version": 3
   },
   "file_extension": ".py",
   "mimetype": "text/x-python",
   "name": "python",
   "nbconvert_exporter": "python",
   "pygments_lexer": "ipython3",
   "version": "3.11.2"
  },
  "nbTranslate": {
   "displayLangs": [
    "*"
   ],
   "hotkey": "alt-t",
   "langInMainMenu": true,
   "sourceLang": "en",
   "targetLang": "fr",
   "useGoogleTranslate": true
  },
  "varInspector": {
   "cols": {
    "lenName": 16,
    "lenType": 16,
    "lenVar": 40
   },
   "kernels_config": {
    "python": {
     "delete_cmd_postfix": "",
     "delete_cmd_prefix": "del ",
     "library": "var_list.py",
     "varRefreshCmd": "print(var_dic_list())"
    },
    "r": {
     "delete_cmd_postfix": ") ",
     "delete_cmd_prefix": "rm(",
     "library": "var_list.r",
     "varRefreshCmd": "cat(var_dic_list()) "
    }
   },
   "types_to_exclude": [
    "module",
    "function",
    "builtin_function_or_method",
    "instance",
    "_Feature"
   ],
   "window_display": false
  }
 },
 "nbformat": 4,
 "nbformat_minor": 5
}
